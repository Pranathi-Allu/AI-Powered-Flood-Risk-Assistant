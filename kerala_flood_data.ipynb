{
  "nbformat": 4,
  "nbformat_minor": 0,
  "metadata": {
    "colab": {
      "provenance": []
    },
    "kernelspec": {
      "name": "python3",
      "display_name": "Python 3"
    },
    "language_info": {
      "name": "python"
    }
  },
  "cells": [
    {
      "cell_type": "code",
      "execution_count": 1,
      "metadata": {
        "id": "4wIqUtqWqyxN",
        "colab": {
          "base_uri": "https://localhost:8080/"
        },
        "outputId": "0210759d-e702-4494-c882-8a83d6675af8"
      },
      "outputs": [
        {
          "output_type": "stream",
          "name": "stdout",
          "text": [
            "\u001b[?25l   \u001b[90m━━━━━━━━━━━━━━━━━━━━━━━━━━━━━━━━━━━━━━━━\u001b[0m \u001b[32m0.0/1.6 MB\u001b[0m \u001b[31m?\u001b[0m eta \u001b[36m-:--:--\u001b[0m\r\u001b[2K   \u001b[91m━━━━━━━━━━━━━\u001b[0m\u001b[90m╺\u001b[0m\u001b[90m━━━━━━━━━━━━━━━━━━━━━━━━━━\u001b[0m \u001b[32m0.5/1.6 MB\u001b[0m \u001b[31m17.1 MB/s\u001b[0m eta \u001b[36m0:00:01\u001b[0m\r\u001b[2K   \u001b[91m━━━━━━━━━━━━━━━━━━━━━━━━━━━━━━━━━━━━━━━\u001b[0m\u001b[91m╸\u001b[0m \u001b[32m1.6/1.6 MB\u001b[0m \u001b[31m32.0 MB/s\u001b[0m eta \u001b[36m0:00:01\u001b[0m\r\u001b[2K   \u001b[90m━━━━━━━━━━━━━━━━━━━━━━━━━━━━━━━━━━━━━━━━\u001b[0m \u001b[32m1.6/1.6 MB\u001b[0m \u001b[31m22.0 MB/s\u001b[0m eta \u001b[36m0:00:00\u001b[0m\n",
            "\u001b[?25h"
          ]
        }
      ],
      "source": [
        "!pip install -q earthengine-api geemap"
      ]
    },
    {
      "cell_type": "code",
      "source": [
        "import time\n",
        "import ee"
      ],
      "metadata": {
        "id": "vcL7KRrFrClF"
      },
      "execution_count": 40,
      "outputs": []
    },
    {
      "cell_type": "code",
      "source": [
        "# Authenticate (interactive OAuth)\n",
        "ee.Authenticate()"
      ],
      "metadata": {
        "colab": {
          "base_uri": "https://localhost:8080/"
        },
        "id": "IjVRUxswrL85",
        "outputId": "7f0bad10-f14c-4208-9037-0afca9f9605f"
      },
      "execution_count": 41,
      "outputs": [
        {
          "output_type": "execute_result",
          "data": {
            "text/plain": [
              "True"
            ]
          },
          "metadata": {},
          "execution_count": 41
        }
      ]
    },
    {
      "cell_type": "code",
      "source": [
        "# Initialize with Google Earth Engine Cloud Project ID\n",
        "ee.Initialize(project='flood-gee-project')\n",
        "print(\"Earth Engine initialized successfully\")"
      ],
      "metadata": {
        "id": "y7vZHQJArQRe",
        "colab": {
          "base_uri": "https://localhost:8080/"
        },
        "outputId": "4a30ad30-3f05-493d-b813-d52be7705958"
      },
      "execution_count": 42,
      "outputs": [
        {
          "output_type": "stream",
          "name": "stdout",
          "text": [
            "Earth Engine initialized successfully\n"
          ]
        }
      ]
    },
    {
      "cell_type": "code",
      "source": [
        "# 1. Defining only for a single state \"Kerala\"\n",
        "STATE_NAME = 'Kerala'\n",
        "\n",
        "# Load Administrative Boundaries for India (Level 1 = States)\n",
        "admin_boundaries = ee.FeatureCollection(\"FAO/GAUL/2015/level1\")"
      ],
      "metadata": {
        "id": "0K9FwuneQNuR"
      },
      "execution_count": 43,
      "outputs": []
    },
    {
      "cell_type": "code",
      "source": [
        "# Filter for the specific state\n",
        "state = admin_boundaries.filter(ee.Filter.eq('ADM1_NAME', STATE_NAME)).first()\n",
        "\n",
        "# Check if the state was found\n",
        "if not state.getInfo():\n",
        "    raise Exception(f\"State '{STATE_NAME}' not found. Please check spelling and capitalization.\")\n",
        "else:\n",
        "    print(f\"Successfully selected the state of {STATE_NAME}.\")\n",
        "\n",
        "# Load JRC Global Surface Water data\n",
        "gsw_occurrence = ee.Image(\"JRC/GSW1_4/GlobalSurfaceWater\").select('occurrence')\n",
        "\n",
        "# 2. Create a Classification Image\n",
        "# Where occurrence >= 10, the value is 1 (flood). Everywhere else, it is 0 (no-flood).\n",
        "class_band = ee.Image(0).where(gsw_occurrence.gte(10), 1).rename('label')\n",
        "\n",
        "# 3. Combine Original Data with Class Labels\n",
        "image_to_sample = gsw_occurrence.addBands(class_band)\n",
        "\n",
        "# 4. Performing Stratified Sampling for the State\n",
        "# We sample within the selected state's geometry.\n",
        "# The scale can be smaller (more detailed) since the area is smaller.\n",
        "dataset = image_to_sample.stratifiedSample(\n",
        "    numPoints=1000,\n",
        "    classBand='label',\n",
        "    region=state.geometry(),\n",
        "    scale=250,\n",
        "    geometries=True,\n",
        "    tileScale=4\n",
        ")\n",
        "\n",
        "print(\"Total sampled points:\", dataset.size().getInfo())\n",
        "print(\"Sample feature:\", dataset.first().getInfo())\n",
        "\n",
        "# 5. Export the Final Dataset\n",
        "task = ee.batch.Export.table.toDrive(\n",
        "    collection=dataset,\n",
        "    description=f'{STATE_NAME}_Flood_NoFlood_GSW',\n",
        "    fileFormat='CSV',\n",
        "    folder='India_Flood_Dataset',\n",
        "    selectors=['occurrence', 'label', '.geo']\n",
        ")\n",
        "task.start()\n",
        "print(\"Export task started ✅. Check the 'Tasks' tab in the GEE Code Editor or your Google Drive.\")\n",
        "\n",
        "# Monitor task status\n",
        "while task.active():\n",
        "    print(f\"Task running... (State: {task.status()['state']})\")\n",
        "    time.sleep(30)\n",
        "\n",
        "final_status = task.status()\n",
        "if final_status['state'] == 'COMPLETED':\n",
        "    print(\"✅ Task completed successfully! Please check your Google Drive.\")\n",
        "else:\n",
        "    error_message = final_status.get('error_message', 'No error message.')\n",
        "    print(f\"❌ Task failed or was cancelled: {error_message}\")\n"
      ],
      "metadata": {
        "colab": {
          "base_uri": "https://localhost:8080/"
        },
        "id": "Svh0ceQbTJNS",
        "outputId": "ccb789a7-93b7-408b-ce7a-b6ae6cc6e570"
      },
      "execution_count": 44,
      "outputs": [
        {
          "output_type": "stream",
          "name": "stdout",
          "text": [
            "Successfully selected the state of Kerala.\n",
            "Total sampled points: 2000\n",
            "Sample feature: {'type': 'Feature', 'geometry': {'geodesic': False, 'type': 'Point', 'coordinates': [76.7800403962722, 10.709939396093986]}, 'id': '0', 'properties': {'label': 0, 'occurrence': 7}}\n",
            "Export task started ✅. Check the 'Tasks' tab in the GEE Code Editor or your Google Drive.\n",
            "Task running... (State: READY)\n",
            "✅ Task completed successfully! Please check your Google Drive.\n"
          ]
        }
      ]
    }
  ]
}